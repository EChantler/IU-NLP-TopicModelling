{
 "cells": [
  {
   "cell_type": "code",
   "execution_count": 9,
   "id": "6f81d407",
   "metadata": {},
   "outputs": [
    {
     "name": "stdout",
     "output_type": "stream",
     "text": [
      "Number of documents: 18846\n",
      "Number of categories: 20\n",
      "Categories: ['alt.atheism', 'comp.graphics', 'comp.os.ms-windows.misc', 'comp.sys.ibm.pc.hardware', 'comp.sys.mac.hardware', 'comp.windows.x', 'misc.forsale', 'rec.autos', 'rec.motorcycles', 'rec.sport.baseball', 'rec.sport.hockey', 'sci.crypt', 'sci.electronics', 'sci.med', 'sci.space', 'soc.religion.christian', 'talk.politics.guns', 'talk.politics.mideast', 'talk.politics.misc', 'talk.religion.misc']\n",
      "\n",
      "Sample document:\n",
      " From: Mamatha Devineni Ratnam <mr47+@andrew.cmu.edu>\n",
      "Subject: Pens fans reactions\n",
      "Organization: Post Office, Carnegie Mellon, Pittsburgh, PA\n",
      "Lines: 12\n",
      "NNTP-Posting-Host: po4.andrew.cmu.edu\n",
      "\n",
      "\n",
      "\n",
      "I am sure some bashers of Pens fans are pretty confused about the lack\n",
      "of any kind of posts about the recent Pens massacre of the Devils. Actually,\n",
      "I am  bit puzzled too and a bit relieved. However, I am going to put an end\n",
      "to non-PIttsburghers' relief with a bit of praise for the Pens. Man, they\n",
      "are killin\n",
      "\n",
      "Sample document 2:\n",
      " From: mblawson@midway.ecn.uoknor.edu (Matthew B Lawson)\n",
      "Subject: Which high-performance VLB video card?\n",
      "Summary: Seek recommendations for VLB video card\n",
      "Nntp-Posting-Host: midway.ecn.uoknor.edu\n",
      "Organization: Engineering Computer Network, University of Oklahoma, Norman, OK, USA\n",
      "Keywords: orchid, stealth, vlb\n",
      "Lines: 21\n",
      "\n",
      "  My brother is in the market for a high-performance video card that supports\n",
      "VESA local bus with 1-2MB RAM.  Does anyone have suggestions/ideas on:\n",
      "\n",
      "  - Diamond Stealth Pro Local \n"
     ]
    }
   ],
   "source": [
    "from sklearn.datasets import fetch_20newsgroups\n",
    "\n",
    "# Load the 20 newsgroups dataset\n",
    "newsgroups = fetch_20newsgroups(data_home=\"../data/raw\", subset='all', remove=())\n",
    "\n",
    "# Basic exploration\n",
    "print(f\"Number of documents: {len(newsgroups.data)}\")\n",
    "print(f\"Number of categories: {len(newsgroups.target_names)}\")\n",
    "print(\"Categories:\", newsgroups.target_names)\n",
    "print(\"\\nSample document:\\n\", newsgroups.data[0][:500])\n",
    "print(\"\\nSample document 2:\\n\", newsgroups.data[1][:500])"
   ]
  },
  {
   "cell_type": "code",
   "execution_count": 8,
   "id": "9dc1d0ee",
   "metadata": {},
   "outputs": [
    {
     "name": "stdout",
     "output_type": "stream",
     "text": [
      "\n",
      "Number of documents after cleaning: 18846\n",
      "Sample cleaned document:\n",
      " My brother is in the market for a high-performance video card that supports\n",
      "VESA local bus with 1-2MB RAM.  Does anyone have suggestions/ideas on:\n",
      "\n",
      "  - Diamond Stealth Pro Local Bus\n",
      "\n",
      "  - Orchid Farenheit 1280\n",
      "\n",
      "  - ATI Graphics Ultra Pro\n",
      "\n",
      "  - Any other high-performance VLB card\n",
      "\n",
      "\n",
      "Please post or email.  Thank you!\n",
      "\n",
      "  - Matt\n",
      "\n"
     ]
    }
   ],
   "source": [
    "# Remove the headers and keep only text\n",
    "newsgroups = fetch_20newsgroups(data_home=\"../data/raw\", subset='all', remove=('headers', 'footers', 'quotes'))\n",
    "# Basic exploration after removing headers, footers, and quotes\n",
    "print(f\"\\nNumber of documents after cleaning: {len(newsgroups.data)}\")\n",
    "print(\"Sample cleaned document:\\n\", newsgroups.data[1][:500])\n",
    "\n"
   ]
  },
  {
   "cell_type": "code",
   "execution_count": 7,
   "id": "f82fdec7",
   "metadata": {},
   "outputs": [
    {
     "name": "stdout",
     "output_type": "stream",
     "text": [
      "\n",
      "Target labels (first 10): [10  3 17  3  4 12  4 10 10 19]\n",
      "Target names (first 10): ['alt.atheism', 'comp.graphics', 'comp.os.ms-windows.misc', 'comp.sys.ibm.pc.hardware', 'comp.sys.mac.hardware', 'comp.windows.x', 'misc.forsale', 'rec.autos', 'rec.motorcycles', 'rec.sport.baseball']\n"
     ]
    }
   ],
   "source": [
    "# Explore the target labels\n",
    "print(\"\\nTarget labels (first 10):\", newsgroups.target[:10])\n",
    "print(\"Target names (first 10):\", newsgroups.target_names[:10])"
   ]
  },
  {
   "cell_type": "code",
   "execution_count": 11,
   "id": "d3f95bd6",
   "metadata": {},
   "outputs": [
    {
     "name": "stdout",
     "output_type": "stream",
     "text": [
      "\n",
      "Number of documents per category:\n",
      "primary_category\n",
      "comp    4891\n",
      "rec     3979\n",
      "sci     3952\n",
      "talk    3253\n",
      "soc      997\n",
      "misc     975\n",
      "alt      799\n",
      "Name: count, dtype: int64\n"
     ]
    }
   ],
   "source": [
    "# count the number of documents per primary category\n",
    "# .apply(lambda x: x.split('.')[0])\n",
    "import pandas as pd\n",
    "df = pd.DataFrame({'category': newsgroups.target, 'text': newsgroups.data})\n",
    "df['primary_category'] = df['category'].apply(lambda x: newsgroups.target_names[x].split('.')[0])\n",
    "category_counts = df['primary_category'].value_counts()\n",
    "print(\"\\nNumber of documents per category:\")\n",
    "print(category_counts)"
   ]
  }
 ],
 "metadata": {
  "kernelspec": {
   "display_name": "Python 3",
   "language": "python",
   "name": "python3"
  },
  "language_info": {
   "codemirror_mode": {
    "name": "ipython",
    "version": 3
   },
   "file_extension": ".py",
   "mimetype": "text/x-python",
   "name": "python",
   "nbconvert_exporter": "python",
   "pygments_lexer": "ipython3",
   "version": "3.12.11"
  }
 },
 "nbformat": 4,
 "nbformat_minor": 5
}
